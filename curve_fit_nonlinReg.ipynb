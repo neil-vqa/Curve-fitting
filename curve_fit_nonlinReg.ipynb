{
 "cells": [
  {
   "cell_type": "markdown",
   "metadata": {},
   "source": [
    "Nonlinear Regression\n",
    "\n",
    "\n",
    "17.8 Fit the following data with the power model (y = ax^b ). Use\n",
    "the resulting power equation to predict y at x = 9:\n",
    "\n",
    "\n",
    "x [2.5, 3.5, 5, 6, 7.5, 10, 12.5, 15, 17.5, 20]\n",
    "\n",
    "\n",
    "y [13, 11, 8.5, 8.2, 7, 6.2, 5.2, 4.8, 4.6, 4.3]\n",
    "\n",
    "\n",
    "Problem from \"Numerical Methods for Engineers, SIXTH EDITION\" by S. Chapra and R. Canale"
   ]
  },
  {
   "cell_type": "code",
   "execution_count": 1,
   "metadata": {},
   "outputs": [],
   "source": [
    "from scipy.optimize import least_squares\n",
    "import numpy as np\n",
    "import matplotlib.pyplot as plt\n",
    "import math\n",
    "from scipy.stats import linregress"
   ]
  },
  {
   "cell_type": "code",
   "execution_count": 2,
   "metadata": {},
   "outputs": [],
   "source": [
    "x_data = np.array([2.5, 3.5, 5, 6, 7.5, 10, 12.5, 15, 17.5, 20])\n",
    "y_data = np.array([13, 11, 8.5, 8.2, 7, 6.2, 5.2, 4.8, 4.6, 4.3])"
   ]
  },
  {
   "cell_type": "code",
   "execution_count": 3,
   "metadata": {},
   "outputs": [],
   "source": [
    "def function(x, a, b):\n",
    "    return a*(x**b)"
   ]
  },
  {
   "cell_type": "code",
   "execution_count": 4,
   "metadata": {},
   "outputs": [],
   "source": [
    "def residuals(p, x, y):\n",
    "    return y - function(x, *p)"
   ]
  },
  {
   "cell_type": "code",
   "execution_count": 5,
   "metadata": {},
   "outputs": [],
   "source": [
    "x0 = [1., 1.]"
   ]
  },
  {
   "cell_type": "code",
   "execution_count": 17,
   "metadata": {
    "scrolled": true
   },
   "outputs": [],
   "source": [
    "fit = least_squares(residuals, x0, loss='soft_l1', f_scale=0.5, args=(x_data, y_data))"
   ]
  },
  {
   "cell_type": "code",
   "execution_count": 18,
   "metadata": {},
   "outputs": [
    {
     "data": {
      "text/plain": [
       " active_mask: array([0., 0.])\n",
       "        cost: 0.14610226991467956\n",
       "         fun: array([-0.00455776,  0.1863667 , -0.39276526,  0.15324653, -0.12005984,\n",
       "        0.11895707, -0.18072773, -0.06883307,  0.12578276,  0.14166657])\n",
       "        grad: array([5.31173383e-10, 3.05732400e-07])\n",
       "         jac: array([[ -0.6050303 , -11.91521324],\n",
       "       [ -0.45635983, -12.28761829],\n",
       "       [ -0.28853678,  -9.98083354],\n",
       "       [ -0.35001347, -13.47894397],\n",
       "       [ -0.31763874, -13.75558312],\n",
       "       [ -0.27148932, -13.43568541],\n",
       "       [ -0.228325  , -12.39457225],\n",
       "       [ -0.22336658, -13.00068704],\n",
       "       [ -0.19881005, -12.23009531],\n",
       "       [ -0.18258974, -11.75630239]])\n",
       "     message: '`ftol` termination condition is satisfied.'\n",
       "        nfev: 18\n",
       "        njev: 16\n",
       "  optimality: 3.057324002853079e-07\n",
       "      status: 2\n",
       "     success: True\n",
       "           x: array([21.49272091, -0.54831333])"
      ]
     },
     "execution_count": 18,
     "metadata": {},
     "output_type": "execute_result"
    }
   ],
   "source": [
    "fit"
   ]
  },
  {
   "cell_type": "code",
   "execution_count": 19,
   "metadata": {},
   "outputs": [],
   "source": [
    "coefs = fit.x"
   ]
  },
  {
   "cell_type": "code",
   "execution_count": 20,
   "metadata": {},
   "outputs": [
    {
     "data": {
      "text/plain": [
       "array([13.00455776, 10.8136333 ,  8.89276526,  8.04675347,  7.12005984,\n",
       "        6.08104293,  5.38072773,  4.86883307,  4.47421724,  4.15833343])"
      ]
     },
     "execution_count": 20,
     "metadata": {},
     "output_type": "execute_result"
    }
   ],
   "source": [
    "fit_line = function(x_data, coefs[0], coefs[1])\n",
    "fit_line"
   ]
  },
  {
   "cell_type": "code",
   "execution_count": 21,
   "metadata": {},
   "outputs": [
    {
     "data": {
      "image/png": "[encoded data removed]",
      "text/plain": [
       "<Figure size 432x288 with 1 Axes>"
      ]
     },
     "metadata": {
      "needs_background": "light"
     },
     "output_type": "display_data"
    }
   ],
   "source": [
    "plt.scatter(x_data, y_data, label='Data')\n",
    "plt.plot(x_data, fit_line, label='Fitted curve')\n",
    "plt.legend()\n",
    "plt.show()"
   ]
  },
  {
   "cell_type": "code",
   "execution_count": 22,
   "metadata": {},
   "outputs": [
    {
     "data": {
      "text/plain": [
       "LinregressResult(slope=-0.43722948426335195, intercept=11.634525771417309, rvalue=-0.9098755344107167, pvalue=0.0002585763504036697, stderr=0.07048656449077732)"
      ]
     },
     "execution_count": 22,
     "metadata": {},
     "output_type": "execute_result"
    }
   ],
   "source": [
    "regress = linregress(x_data, fit_line)\n",
    "regress"
   ]
  },
  {
   "cell_type": "code",
   "execution_count": 23,
   "metadata": {},
   "outputs": [
    {
     "data": {
      "text/plain": [
       "6.442694095564106"
      ]
     },
     "execution_count": 23,
     "metadata": {},
     "output_type": "execute_result"
    }
   ],
   "source": [
    "x = 9\n",
    "y_value = function(x, coefs[0], coefs[1])\n",
    "y_value"
   ]
  }
 ],
 "metadata": {
  "kernelspec": {
   "display_name": "Python 3",
   "language": "python",
   "name": "python3"
  },
  "language_info": {
   "codemirror_mode": {
    "name": "ipython",
    "version": 3
   },
   "file_extension": ".py",
   "mimetype": "text/x-python",
   "name": "python",
   "nbconvert_exporter": "python",
   "pygments_lexer": "ipython3",
   "version": "3.7.3"
  }
 },
 "nbformat": 4,
 "nbformat_minor": 2
}
