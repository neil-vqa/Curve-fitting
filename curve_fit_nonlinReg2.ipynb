{
 "cells": [
  {
   "cell_type": "markdown",
   "metadata": {},
   "source": [
    "17.31 In Prob. 17.11 we used transformations to linearize and fit\n",
    "the following model:\n",
    "\n",
    "\n",
    "y = axe^(bx)\n",
    "\n",
    "    \n",
    "Use nonlinear regression to estimate a and b based on the following data. Develop a plot of your fit along with the data.\n",
    "\n",
    "\n",
    "x [0.1, 0.2, 0.4, 0.6, 0.9, 1.3, 1.5, 1.7, 1.8]\n",
    "\n",
    "\n",
    "y [0.75, 1.25, 1.45, 1.25, 0.85, 0.55, 0.35, 0.28, 0.18]\n",
    "\n",
    "\n",
    "Problem from \"Numerical Methods for Engineers, SIXTH EDITION\" by S. Chapra and R. Canale"
   ]
  },
  {
   "cell_type": "code",
   "execution_count": 1,
   "metadata": {},
   "outputs": [],
   "source": [
    "from scipy.optimize import least_squares\n",
    "import numpy as np\n",
    "import matplotlib.pyplot as plt\n",
    "import math\n",
    "from scipy.stats import linregress"
   ]
  },
  {
   "cell_type": "code",
   "execution_count": 2,
   "metadata": {},
   "outputs": [],
   "source": [
    "x_data = np.array([0.1, 0.2, 0.4, 0.6, 0.9, 1.3, 1.5, 1.7, 1.8])\n",
    "y_data = np.array([0.75, 1.25, 1.45, 1.25, 0.85, 0.55, 0.35, 0.28, 0.18])"
   ]
  },
  {
   "cell_type": "code",
   "execution_count": 9,
   "metadata": {},
   "outputs": [],
   "source": [
    "def function(x, a, b):\n",
    "    return a*x*(2.71828182**(b*x))"
   ]
  },
  {
   "cell_type": "code",
   "execution_count": 4,
   "metadata": {},
   "outputs": [],
   "source": [
    "def residuals(p, x, y):\n",
    "    return y - function(x, *p)"
   ]
  },
  {
   "cell_type": "code",
   "execution_count": 5,
   "metadata": {},
   "outputs": [],
   "source": [
    "x0 = [1., 1.]"
   ]
  },
  {
   "cell_type": "code",
   "execution_count": 31,
   "metadata": {},
   "outputs": [],
   "source": [
    "fit = least_squares(residuals, x0, loss='soft_l1', f_scale=0.01, method='trf', tr_solver='exact', args=(x_data, y_data))"
   ]
  },
  {
   "cell_type": "code",
   "execution_count": 32,
   "metadata": {},
   "outputs": [
    {
     "data": {
      "text/plain": [
       " active_mask: array([0., 0.])\n",
       "        cost: 0.002739637864838473\n",
       "         fun: array([-0.0156114 ,  0.05874654,  0.00799839, -0.05914749, -0.07464962,\n",
       "        0.06073834,  0.00831913,  0.04562574, -0.0130631 ])\n",
       "        grad: array([-6.48067754e-12,  6.26656191e-08])\n",
       "         jac: array([[-0.03081883, -0.03032904],\n",
       "       [-0.00832117, -0.01637785],\n",
       "       [-0.10112099, -0.39805576],\n",
       "       [-0.00905444, -0.05346326],\n",
       "       [-0.00454569, -0.04026104],\n",
       "       [-0.00325531, -0.04164651],\n",
       "       [-0.02340252, -0.34545901],\n",
       "       [-0.00235923, -0.03946947],\n",
       "       [-0.00929731, -0.1646919 ]])\n",
       "     message: '`ftol` termination condition is satisfied.'\n",
       "        nfev: 32\n",
       "        njev: 29\n",
       "  optimality: 6.266561909575724e-08\n",
       "      status: 2\n",
       "     success: True\n",
       "           x: array([ 9.84107644, -2.51060554])"
      ]
     },
     "execution_count": 32,
     "metadata": {},
     "output_type": "execute_result"
    }
   ],
   "source": [
    "fit"
   ]
  },
  {
   "cell_type": "code",
   "execution_count": 33,
   "metadata": {},
   "outputs": [
    {
     "data": {
      "text/plain": [
       "array([0.7656114 , 1.19125346, 1.44200161, 1.30914749, 0.92464962,\n",
       "       0.48926166, 0.34168087, 0.23437426, 0.1930631 ])"
      ]
     },
     "execution_count": 33,
     "metadata": {},
     "output_type": "execute_result"
    }
   ],
   "source": [
    "coefs = fit.x\n",
    "fit_line = function(x_data, coefs[0], coefs[1])\n",
    "fit_line"
   ]
  },
  {
   "cell_type": "code",
   "execution_count": 34,
   "metadata": {},
   "outputs": [
    {
     "data": {
      "image/png": "[encoded data removed]",
      "text/plain": [
       "<Figure size 432x288 with 1 Axes>"
      ]
     },
     "metadata": {
      "needs_background": "light"
     },
     "output_type": "display_data"
    }
   ],
   "source": [
    "plt.scatter(x_data, y_data, label='Data')\n",
    "plt.plot(x_data, fit_line, label='Fitted curve')\n",
    "plt.legend()\n",
    "plt.show()"
   ]
  },
  {
   "cell_type": "code",
   "execution_count": 35,
   "metadata": {},
   "outputs": [
    {
     "data": {
      "text/plain": [
       "LinregressResult(slope=-0.6149252356077646, intercept=1.3464342199115165, rvalue=-0.8419460950907879, pvalue=0.0044122782226374835, stderr=0.14894642451347595)"
      ]
     },
     "execution_count": 35,
     "metadata": {},
     "output_type": "execute_result"
    }
   ],
   "source": [
    "regress = linregress(x_data, fit_line)\n",
    "regress"
   ]
  }
 ],
 "metadata": {
  "kernelspec": {
   "display_name": "Python 3",
   "language": "python",
   "name": "python3"
  },
  "language_info": {
   "codemirror_mode": {
    "name": "ipython",
    "version": 3
   },
   "file_extension": ".py",
   "mimetype": "text/x-python",
   "name": "python",
   "nbconvert_exporter": "python",
   "pygments_lexer": "ipython3",
   "version": "3.7.3"
  }
 },
 "nbformat": 4,
 "nbformat_minor": 2
}
