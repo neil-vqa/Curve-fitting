{
 "cells": [
  {
   "cell_type": "markdown",
   "metadata": {},
   "source": [
    "Polynomial Regression"
   ]
  },
  {
   "cell_type": "markdown",
   "metadata": {},
   "source": [
    "20.48 Dynamic viscosity of water μ(10 −3 N· s/m 2 ) is related to\n",
    "temperature T(°C) in the following manner:\n",
    "\n",
    "\n",
    "T 0, 5, 10, 20, 30, 40\n",
    "\n",
    "\n",
    "μ 1.787, 1.519, 1.307, 1.002, 0.7975, 0.6529\n",
    "\n",
    "\n",
    "Problem from \"Numerical Methods for Engineers, SIXTH EDITION\" by S. Chapra and R. Canale"
   ]
  },
  {
   "cell_type": "code",
   "execution_count": 1,
   "metadata": {},
   "outputs": [],
   "source": [
    "from scipy.optimize import curve_fit\n",
    "from scipy.stats import linregress\n",
    "import matplotlib.pyplot as plt\n",
    "import numpy as np"
   ]
  },
  {
   "cell_type": "code",
   "execution_count": 2,
   "metadata": {},
   "outputs": [],
   "source": [
    "x_data = np.array([0, 5, 10, 20, 30, 40])\n",
    "y_data = np.array([1.787, 1.519, 1.307, 1.002, 0.7975, 0.6529])"
   ]
  },
  {
   "cell_type": "code",
   "execution_count": 3,
   "metadata": {},
   "outputs": [],
   "source": [
    "def function(x, a, b, c):\n",
    "    return (a*(x*x) + b*x + c)"
   ]
  },
  {
   "cell_type": "code",
   "execution_count": 4,
   "metadata": {},
   "outputs": [],
   "source": [
    "fit = curve_fit(function, x_data, y_data)"
   ]
  },
  {
   "cell_type": "code",
   "execution_count": 5,
   "metadata": {},
   "outputs": [
    {
     "data": {
      "text/plain": [
       "(array([ 5.48341660e-04, -4.94933660e-02,  1.76724498e+00]),\n",
       " array([[ 3.89544322e-09, -1.54792614e-07,  7.44918110e-07],\n",
       "        [-1.54792614e-07,  6.61166079e-06, -3.76627872e-05],\n",
       "        [ 7.44918110e-07, -3.76627872e-05,  3.74714332e-04]]))"
      ]
     },
     "execution_count": 5,
     "metadata": {},
     "output_type": "execute_result"
    }
   ],
   "source": [
    "fit"
   ]
  },
  {
   "cell_type": "code",
   "execution_count": 6,
   "metadata": {},
   "outputs": [],
   "source": [
    "param_fit = fit[0]"
   ]
  },
  {
   "cell_type": "code",
   "execution_count": 7,
   "metadata": {},
   "outputs": [
    {
     "data": {
      "text/plain": [
       "array([1.76724498, 1.5334867 , 1.32714549, 0.99671433, 0.7759515 ,\n",
       "       0.664857  ])"
      ]
     },
     "execution_count": 7,
     "metadata": {},
     "output_type": "execute_result"
    }
   ],
   "source": [
    "fitted = function(x_data, param_fit[0], param_fit[1], param_fit[2])\n",
    "fitted"
   ]
  },
  {
   "cell_type": "code",
   "execution_count": 8,
   "metadata": {},
   "outputs": [
    {
     "data": {
      "image/png": "[encoded data removed]",
      "text/plain": [
       "<Figure size 432x288 with 1 Axes>"
      ]
     },
     "metadata": {
      "needs_background": "light"
     },
     "output_type": "display_data"
    }
   ],
   "source": [
    "plt.plot(x_data, fitted)\n",
    "plt.scatter(x_data, y_data)\n",
    "plt.title('Temperature vs Dynamic Viscosity H20')\n",
    "plt.xlabel('Temperature, °C')\n",
    "plt.ylabel('Dynamic viscosity, μ')\n",
    "plt.show()"
   ]
  },
  {
   "cell_type": "code",
   "execution_count": 9,
   "metadata": {},
   "outputs": [
    {
     "data": {
      "text/plain": [
       "LinregressResult(slope=-0.02770399999894027, intercept=1.6623866666277634, rvalue=-0.9776096552091618, pvalue=0.000746378861543704, stderr=0.002981588318666532)"
      ]
     },
     "execution_count": 9,
     "metadata": {},
     "output_type": "execute_result"
    }
   ],
   "source": [
    "regress = linregress(x_data, fitted)\n",
    "regress"
   ]
  }
 ],
 "metadata": {
  "kernelspec": {
   "display_name": "Python 3",
   "language": "python",
   "name": "python3"
  },
  "language_info": {
   "codemirror_mode": {
    "name": "ipython",
    "version": 3
   },
   "file_extension": ".py",
   "mimetype": "text/x-python",
   "name": "python",
   "nbconvert_exporter": "python",
   "pygments_lexer": "ipython3",
   "version": "3.7.3"
  }
 },
 "nbformat": 4,
 "nbformat_minor": 2
}
